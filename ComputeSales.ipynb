{
  "nbformat": 4,
  "nbformat_minor": 0,
  "metadata": {
    "colab": {
      "provenance": [],
      "authorship_tag": "ABX9TyNS6AeReDwv8zQb+iv0QqF1",
      "include_colab_link": true
    },
    "kernelspec": {
      "name": "python3",
      "display_name": "Python 3"
    },
    "language_info": {
      "name": "python"
    }
  },
  "cells": [
    {
      "cell_type": "markdown",
      "metadata": {
        "id": "view-in-github",
        "colab_type": "text"
      },
      "source": [
        "<a href=\"https://colab.research.google.com/github/PosgradoMNA/A01793817-A5.2/blob/main/ComputeSales.ipynb\" target=\"_parent\"><img src=\"https://colab.research.google.com/assets/colab-badge.svg\" alt=\"Open In Colab\"/></a>"
      ]
    },
    {
      "cell_type": "code",
      "execution_count": 10,
      "metadata": {
        "colab": {
          "base_uri": "https://localhost:8080/"
        },
        "id": "2_rzDS_tvkZG",
        "outputId": "4d01bfee-9e6a-484d-8164-3a4a476312ad"
      },
      "outputs": [
        {
          "output_type": "stream",
          "name": "stdout",
          "text": [
            "Requirement already satisfied: flake8 in /usr/local/lib/python3.10/dist-packages (7.0.0)\n",
            "Requirement already satisfied: mccabe<0.8.0,>=0.7.0 in /usr/local/lib/python3.10/dist-packages (from flake8) (0.7.0)\n",
            "Requirement already satisfied: pycodestyle<2.12.0,>=2.11.0 in /usr/local/lib/python3.10/dist-packages (from flake8) (2.11.1)\n",
            "Requirement already satisfied: pyflakes<3.3.0,>=3.2.0 in /usr/local/lib/python3.10/dist-packages (from flake8) (3.2.0)\n"
          ]
        }
      ],
      "source": [
        "!pip install flake8"
      ]
    },
    {
      "cell_type": "code",
      "source": [
        "import json\n",
        "import sys\n",
        "import time\n",
        "\n",
        "def compute_sales(price_catalogue_file, sales_record_file):\n",
        "    try:\n",
        "        # Read product catalog from the first file\n",
        "        with open(price_catalogue_file, 'r') as price_file:\n",
        "            price_catalogue = json.load(price_file)\n",
        "\n",
        "        # Read sales record from the second file\n",
        "        with open(sales_record_file, 'r') as sales_file:\n",
        "            sales_record = json.load(sales_file)\n",
        "\n",
        "        # Compute total cost\n",
        "        total_cost = 0\n",
        "        for sale in sales_record:\n",
        "            for item in sale['items']:\n",
        "                product_id = item['product_id']\n",
        "                quantity = item['quantity']\n",
        "\n",
        "                if product_id in price_catalogue:\n",
        "                    item_cost = price_catalogue[product_id] * quantity\n",
        "                    total_cost += item_cost\n",
        "\n",
        "        # Display total cost on the screen\n",
        "        print(\"Total Cost: ${:.2f}\".format(total_cost))\n",
        "\n",
        "        # Write total cost and execution time to SalesResults.txt\n",
        "        with open(\"SalesResults.txt\", 'w') as results_file:\n",
        "            results_file.write(\"Total Cost: ${:.2f}\\n\".format(total_cost))\n",
        "\n",
        "        # Display execution time\n",
        "        end_time = time.time()\n",
        "        execution_time = end_time - start_time\n",
        "        print(\"Execution Time: {:.2f} seconds\".format(execution_time))\n",
        "        results_file.write(\"Execution Time: {:.2f} seconds\".format(execution_time))\n",
        "\n",
        "    except json.JSONDecodeError as e:\n",
        "        print(\"Error decoding JSON: {}\".format(e))\n",
        "    except FileNotFoundError as e:\n",
        "        print(\"Error opening file: {}\".format(e))\n",
        "    except Exception as e:\n",
        "        print(\"An error occurred: {}\".format(e))\n",
        "\n",
        "if __name__ == \"__main__\":\n",
        "    # Check if the correct number of arguments is provided\n",
        "    if len(sys.argv) != 3:\n",
        "        print(\"Usage: python computeSales.py priceCatalogue.json salesRecord.json\")\n",
        "        sys.exit(1)\n",
        "\n",
        "    # Start measuring execution time\n",
        "    start_time = time.time()\n",
        "\n",
        "    # Invoke the program with provided files\n",
        "    compute_sales(sys.argv[1], sys.argv[2])\n"
      ],
      "metadata": {
        "colab": {
          "base_uri": "https://localhost:8080/"
        },
        "id": "3kisbPRBM7OC",
        "outputId": "01ab506c-4a30-4b41-d899-47860961f484"
      },
      "execution_count": 20,
      "outputs": [
        {
          "output_type": "stream",
          "name": "stdout",
          "text": [
            "Error opening file: [Errno 2] No such file or directory: '-f'\n"
          ]
        }
      ]
    },
    {
      "cell_type": "code",
      "source": [
        "!flake8 computeSales.py\n"
      ],
      "metadata": {
        "colab": {
          "base_uri": "https://localhost:8080/"
        },
        "id": "e4YiPpQ3Q0CO",
        "outputId": "bc6c6aee-b132-4b2b-8bc6-b350534f7733"
      },
      "execution_count": 18,
      "outputs": [
        {
          "output_type": "stream",
          "name": "stdout",
          "text": [
            "\u001b[1mcomputeSales.py\u001b[m\u001b[36m:\u001b[m0\u001b[36m:\u001b[m1\u001b[36m:\u001b[m \u001b[1m\u001b[31mE902\u001b[m FileNotFoundError: [Errno 2] No such file or directory: 'computeSales.py'\n"
          ]
        }
      ]
    }
  ]
}